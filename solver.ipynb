{
 "cells": [
  {
   "cell_type": "code",
   "execution_count": 4,
   "id": "c7c0e0e6",
   "metadata": {},
   "outputs": [
    {
     "name": "stdout",
     "output_type": "stream",
     "text": [
      "Collecting qiskit\n",
      "  Downloading qiskit-2.0.2-cp39-abi3-macosx_10_12_x86_64.whl.metadata (12 kB)\n",
      "Requirement already satisfied: numpy in /opt/miniconda3/envs/erdos_fall_2024/lib/python3.12/site-packages (2.1.1)\n",
      "Collecting rustworkx>=0.15.0 (from qiskit)\n",
      "  Downloading rustworkx-0.16.0-cp39-abi3-macosx_10_12_x86_64.whl.metadata (10 kB)\n",
      "Requirement already satisfied: scipy>=1.5 in /opt/miniconda3/envs/erdos_fall_2024/lib/python3.12/site-packages (from qiskit) (1.14.1)\n",
      "Collecting sympy>=1.3 (from qiskit)\n",
      "  Downloading sympy-1.14.0-py3-none-any.whl.metadata (12 kB)\n",
      "Collecting dill>=0.3 (from qiskit)\n",
      "  Downloading dill-0.4.0-py3-none-any.whl.metadata (10 kB)\n",
      "Requirement already satisfied: python-dateutil>=2.8.0 in /opt/miniconda3/envs/erdos_fall_2024/lib/python3.12/site-packages (from qiskit) (2.9.0)\n",
      "Collecting stevedore>=3.0.0 (from qiskit)\n",
      "  Downloading stevedore-5.4.1-py3-none-any.whl.metadata (2.3 kB)\n",
      "Requirement already satisfied: typing-extensions in /opt/miniconda3/envs/erdos_fall_2024/lib/python3.12/site-packages (from qiskit) (4.12.2)\n",
      "Collecting symengine<0.14,>=0.11 (from qiskit)\n",
      "  Downloading symengine-0.13.0-cp312-cp312-macosx_10_13_x86_64.whl.metadata (1.2 kB)\n",
      "Requirement already satisfied: six>=1.5 in /opt/miniconda3/envs/erdos_fall_2024/lib/python3.12/site-packages (from python-dateutil>=2.8.0->qiskit) (1.16.0)\n",
      "Collecting pbr>=2.0.0 (from stevedore>=3.0.0->qiskit)\n",
      "  Downloading pbr-6.1.1-py2.py3-none-any.whl.metadata (3.4 kB)\n",
      "Collecting mpmath<1.4,>=1.1.0 (from sympy>=1.3->qiskit)\n",
      "  Downloading mpmath-1.3.0-py3-none-any.whl.metadata (8.6 kB)\n",
      "Requirement already satisfied: setuptools in /opt/miniconda3/envs/erdos_fall_2024/lib/python3.12/site-packages (from pbr>=2.0.0->stevedore>=3.0.0->qiskit) (73.0.1)\n",
      "Downloading qiskit-2.0.2-cp39-abi3-macosx_10_12_x86_64.whl (6.3 MB)\n",
      "\u001b[2K   \u001b[90m━━━━━━━━━━━━━━━━━━━━━━━━━━━━━━━━━━━━━━━━\u001b[0m \u001b[32m6.3/6.3 MB\u001b[0m \u001b[31m23.2 MB/s\u001b[0m eta \u001b[36m0:00:00\u001b[0ma \u001b[36m0:00:01\u001b[0m\n",
      "\u001b[?25hDownloading dill-0.4.0-py3-none-any.whl (119 kB)\n",
      "Downloading rustworkx-0.16.0-cp39-abi3-macosx_10_12_x86_64.whl (2.1 MB)\n",
      "\u001b[2K   \u001b[90m━━━━━━━━━━━━━━━━━━━━━━━━━━━━━━━━━━━━━━━━\u001b[0m \u001b[32m2.1/2.1 MB\u001b[0m \u001b[31m10.8 MB/s\u001b[0m eta \u001b[36m0:00:00\u001b[0m\n",
      "\u001b[?25hDownloading stevedore-5.4.1-py3-none-any.whl (49 kB)\n",
      "Downloading symengine-0.13.0-cp312-cp312-macosx_10_13_x86_64.whl (25.9 MB)\n",
      "\u001b[2K   \u001b[90m━━━━━━━━━━━━━━━━━━━━━━━━━━━━━━━━━━━━━━━━\u001b[0m \u001b[32m25.9/25.9 MB\u001b[0m \u001b[31m22.3 MB/s\u001b[0m eta \u001b[36m0:00:00\u001b[0ma \u001b[36m0:00:01\u001b[0m\n",
      "\u001b[?25hDownloading sympy-1.14.0-py3-none-any.whl (6.3 MB)\n",
      "\u001b[2K   \u001b[90m━━━━━━━━━━━━━━━━━━━━━━━━━━━━━━━━━━━━━━━━\u001b[0m \u001b[32m6.3/6.3 MB\u001b[0m \u001b[31m18.3 MB/s\u001b[0m eta \u001b[36m0:00:00\u001b[0ma \u001b[36m0:00:01\u001b[0m\n",
      "\u001b[?25hDownloading mpmath-1.3.0-py3-none-any.whl (536 kB)\n",
      "\u001b[2K   \u001b[90m━━━━━━━━━━━━━━━━━━━━━━━━━━━━━━━━━━━━━━━━\u001b[0m \u001b[32m536.2/536.2 kB\u001b[0m \u001b[31m6.7 MB/s\u001b[0m eta \u001b[36m0:00:00\u001b[0m\n",
      "\u001b[?25hDownloading pbr-6.1.1-py2.py3-none-any.whl (108 kB)\n",
      "Installing collected packages: mpmath, sympy, symengine, rustworkx, pbr, dill, stevedore, qiskit\n",
      "Successfully installed dill-0.4.0 mpmath-1.3.0 pbr-6.1.1 qiskit-2.0.2 rustworkx-0.16.0 stevedore-5.4.1 symengine-0.13.0 sympy-1.14.0\n",
      "Note: you may need to restart the kernel to use updated packages.\n"
     ]
    }
   ],
   "source": [
    "pip install qiskit numpy"
   ]
  },
  {
   "cell_type": "code",
   "execution_count": 1,
   "id": "f4402955",
   "metadata": {},
   "outputs": [],
   "source": [
    "from qiskit.circuit import QuantumCircuit, QuantumRegister, AncillaRegister, Parameter\n",
    "from qiskit.quantum_info import Statevector, Operator\n",
    "\n",
    "import numpy as np\n",
    "import SudoquCircuitBuilder as sudoqu\n",
    "import PuzzleConfigurations as pc"
   ]
  },
  {
   "cell_type": "markdown",
   "id": "f2a4d674",
   "metadata": {},
   "source": [
    "# Summary of the algorithm:\n",
    "\n",
    "Step 1: input a $2^2\\times 2^2$ Sudoku board\n",
    "\n",
    "Step 2: prepare input for quantum circuit initialization:\n",
    "    - Find all possible configurations for each row, each column, and each $2\\times 2$-quadrant of the given board. If a row/column/quadrant trivially only has one possible configuration, we immediately fill the unknows with that configuration. \n",
    "    - The number of rows + columns + quadrants is $4+4+4=12$. This is the number of constraints we will have. Each row/column/quadrant has to take on one of the possible configurations we have found in the previous step. \n",
    "\n",
    "Steo 3: Initialize qubits:\n",
    "    - If $n$ is the number of unknowns left, then we need $n\\times 2$ qubits to represent the unkowns. We initialize them as $H\\ket{00}$.\n",
    "    - For each constraint, we will need one ancillar qubit, which tells us if that constraint is satisfied or not.\n",
    "\n",
    "Step 4: #todo\n",
    "\n",
    "\n"
   ]
  },
  {
   "cell_type": "markdown",
   "id": "e52591f6",
   "metadata": {},
   "source": [
    "We begin by inputting the entries of a $2^2\\times 2^2$ Sudoku game. Our convention will be to indicate unknown values by $0.$ All other values must be 1, 2, 3, 4."
   ]
  },
  {
   "cell_type": "code",
   "execution_count": null,
   "id": "d7bedc18",
   "metadata": {},
   "outputs": [],
   "source": [
    "#todo: code that reads in a sudoky board"
   ]
  },
  {
   "cell_type": "markdown",
   "id": "7d970c35",
   "metadata": {},
   "source": [
    "Now we will find all configurations for rows/columns/quadrants and complete the values which can be trivially filled."
   ]
  },
  {
   "cell_type": "code",
   "execution_count": 3,
   "id": "f4b2fcca",
   "metadata": {},
   "outputs": [
    {
     "name": "stdout",
     "output_type": "stream",
     "text": [
      "Started with the following puzzle:\n",
      "[3, 1, 4, 2]\n",
      "[2, 0, 0, 1]\n",
      "[1, 0, 0, 0]\n",
      "[4, 0, 0, 3]\n",
      "\n",
      "Completed trivial missing values. Current puzzle:\n",
      "[3, 1, 4, 2]\n",
      "[2, 4, 3, 1]\n",
      "[1, 0, 0, 4]\n",
      "[4, 0, 0, 3]\n",
      "\n"
     ]
    }
   ],
   "source": [
    "puzzle = [\n",
    "        [3, 1, 4, 2],\n",
    "        [2, 0, 0, 1],\n",
    "        [1, 0, 0, 0],\n",
    "        [4, 0, 0, 3]\n",
    "    ] #todo: this runs a predefined sudoku. Need to change that to plugging in the one read in above\n",
    "\n",
    "print(\"Started with the following puzzle:\")\n",
    "for row in puzzle:\n",
    "    print(row)\n",
    "print()\n",
    "\n",
    "pc.complete_all_trivial_missing_values(puzzle)\n",
    "\n",
    "print(\"Completed trivial missing values. Current puzzle:\")\n",
    "for row in puzzle:\n",
    "    print(row)\n",
    "print()\n"
   ]
  },
  {
   "cell_type": "markdown",
   "id": "d256fdb6",
   "metadata": {},
   "source": [
    "Our next step is to initiate our qubits and a circuit. Let $n$ be the number of unknowns on the board after completing obvous unknowns. To represent the four numbers 1, 2, 3, 4 we will need 2 bits. Each bit we can then represent via a quibit in the obvious way: $0\\mapsto \\ket{0}$ and $1\\mapsto \\ket{1}$. Thus we need two qubits to represent the four numbers 1, 2, 3, 4 via qubits. Hence, we initiate $n\\times 2$ qubits for the unknowns. \n",
    "\n",
    "Notation: We will use the number $0$ to represent an unknown on the board. To save space, we will then represent the numbers 1, 2, 3, 4 as follows via bits: $$1\\mapsto 00,$$\n",
    "$$2\\mapsto 01,$$\n",
    "$$3\\mapsto 10,$$ \n",
    "$$4\\mapsto 11.$$\n",
    "\n",
    "Notation: Let $i$ be an integer from $0$ to $n-1$. We denote by u_i the qubit corresponding to the zeroth bit of the $i$-th unknown and by t_i the first bit of the $i$-th unknown. For example, if the $7$-th unknown ends up being 3, we represent it with the bits $10$ and thus u_7=0 and t_7=1."
   ]
  }
 ],
 "metadata": {
  "kernelspec": {
   "display_name": "erdos_fall_2024",
   "language": "python",
   "name": "python3"
  },
  "language_info": {
   "codemirror_mode": {
    "name": "ipython",
    "version": 3
   },
   "file_extension": ".py",
   "mimetype": "text/x-python",
   "name": "python",
   "nbconvert_exporter": "python",
   "pygments_lexer": "ipython3",
   "version": "3.12.5"
  }
 },
 "nbformat": 4,
 "nbformat_minor": 5
}
