{
 "cells": [
  {
   "cell_type": "code",
   "execution_count": 11,
   "id": "c7c0e0e6",
   "metadata": {},
   "outputs": [
    {
     "name": "stdout",
     "output_type": "stream",
     "text": [
      "Requirement already satisfied: qiskit in /opt/miniconda3/envs/erdos_fall_2024/lib/python3.12/site-packages (2.0.2)\n",
      "Requirement already satisfied: numpy in /opt/miniconda3/envs/erdos_fall_2024/lib/python3.12/site-packages (2.1.1)\n",
      "Collecting pylatexenc\n",
      "  Downloading pylatexenc-2.10.tar.gz (162 kB)\n",
      "  Preparing metadata (setup.py) ... \u001b[?25ldone\n",
      "\u001b[?25hRequirement already satisfied: rustworkx>=0.15.0 in /opt/miniconda3/envs/erdos_fall_2024/lib/python3.12/site-packages (from qiskit) (0.16.0)\n",
      "Requirement already satisfied: scipy>=1.5 in /opt/miniconda3/envs/erdos_fall_2024/lib/python3.12/site-packages (from qiskit) (1.14.1)\n",
      "Requirement already satisfied: sympy>=1.3 in /opt/miniconda3/envs/erdos_fall_2024/lib/python3.12/site-packages (from qiskit) (1.14.0)\n",
      "Requirement already satisfied: dill>=0.3 in /opt/miniconda3/envs/erdos_fall_2024/lib/python3.12/site-packages (from qiskit) (0.4.0)\n",
      "Requirement already satisfied: python-dateutil>=2.8.0 in /opt/miniconda3/envs/erdos_fall_2024/lib/python3.12/site-packages (from qiskit) (2.9.0)\n",
      "Requirement already satisfied: stevedore>=3.0.0 in /opt/miniconda3/envs/erdos_fall_2024/lib/python3.12/site-packages (from qiskit) (5.4.1)\n",
      "Requirement already satisfied: typing-extensions in /opt/miniconda3/envs/erdos_fall_2024/lib/python3.12/site-packages (from qiskit) (4.12.2)\n",
      "Requirement already satisfied: symengine<0.14,>=0.11 in /opt/miniconda3/envs/erdos_fall_2024/lib/python3.12/site-packages (from qiskit) (0.13.0)\n",
      "Requirement already satisfied: six>=1.5 in /opt/miniconda3/envs/erdos_fall_2024/lib/python3.12/site-packages (from python-dateutil>=2.8.0->qiskit) (1.16.0)\n",
      "Requirement already satisfied: pbr>=2.0.0 in /opt/miniconda3/envs/erdos_fall_2024/lib/python3.12/site-packages (from stevedore>=3.0.0->qiskit) (6.1.1)\n",
      "Requirement already satisfied: mpmath<1.4,>=1.1.0 in /opt/miniconda3/envs/erdos_fall_2024/lib/python3.12/site-packages (from sympy>=1.3->qiskit) (1.3.0)\n",
      "Requirement already satisfied: setuptools in /opt/miniconda3/envs/erdos_fall_2024/lib/python3.12/site-packages (from pbr>=2.0.0->stevedore>=3.0.0->qiskit) (73.0.1)\n",
      "Building wheels for collected packages: pylatexenc\n",
      "  Building wheel for pylatexenc (setup.py) ... \u001b[?25ldone\n",
      "\u001b[?25h  Created wheel for pylatexenc: filename=pylatexenc-2.10-py3-none-any.whl size=136817 sha256=aa9ef46311feaa8d3cbe4f0ab427a6b1712ce8302b88d455f18532be639817ce\n",
      "  Stored in directory: /Users/oneman/Library/Caches/pip/wheels/06/3e/78/fa1588c1ae991bbfd814af2bcac6cef7a178beee1939180d46\n",
      "Successfully built pylatexenc\n",
      "Installing collected packages: pylatexenc\n",
      "Successfully installed pylatexenc-2.10\n",
      "Note: you may need to restart the kernel to use updated packages.\n"
     ]
    }
   ],
   "source": [
    "pip install qiskit numpy pylatexenc"
   ]
  },
  {
   "cell_type": "code",
   "execution_count": 1,
   "id": "f4402955",
   "metadata": {},
   "outputs": [],
   "source": [
    "from qiskit.circuit import QuantumCircuit, QuantumRegister, AncillaRegister, Parameter\n",
    "from qiskit.quantum_info import Statevector, Operator\n",
    "\n",
    "import numpy as np\n",
    "import SudoquCircuitBuilder as sudoqu\n",
    "import PuzzleConfigurations as pc"
   ]
  },
  {
   "cell_type": "markdown",
   "id": "f2a4d674",
   "metadata": {},
   "source": [
    "# Summary of the algorithm:\n",
    "\n",
    "Step 1: input a $2^2\\times 2^2$ Sudoku board\n",
    "\n",
    "Step 2: prepare input for quantum circuit initialization:\n",
    "    - Find all possible configurations for each row, each column, and each $2\\times 2$-quadrant of the given board. If a row/column/quadrant trivially only has one possible configuration, we immediately fill the unknows with that configuration. \n",
    "    - The number of rows + columns + quadrants is $4+4+4=12$. This is the number of constraints we will have. Each row/column/quadrant has to take on one of the possible configurations we have found in the previous step. \n",
    "\n",
    "Steo 3: Initialize qubits:\n",
    "    - If $n$ is the number of unknowns left, then we need $n\\times 2$ qubits to represent the unkowns. We initialize them as $H\\ket{00}$.\n",
    "    - For each constraint, we will need one ancillar qubit, which tells us if that constraint is satisfied or not.\n",
    "\n",
    "Step 4: #todo\n",
    "\n",
    "\n"
   ]
  },
  {
   "cell_type": "markdown",
   "id": "e52591f6",
   "metadata": {},
   "source": [
    "We begin by inputting the entries of a $2^2\\times 2^2$ Sudoku game. Our convention will be to indicate unknown values by $0.$ All other values must be 1, 2, 3, 4."
   ]
  },
  {
   "cell_type": "code",
   "execution_count": null,
   "id": "d7bedc18",
   "metadata": {},
   "outputs": [],
   "source": [
    "#todo: code that reads in a sudoky board"
   ]
  },
  {
   "cell_type": "markdown",
   "id": "7d970c35",
   "metadata": {},
   "source": [
    "Now we will find all configurations for rows/columns/quadrants and complete the values which can be trivially filled."
   ]
  },
  {
   "cell_type": "code",
   "execution_count": 2,
   "id": "f4b2fcca",
   "metadata": {},
   "outputs": [
    {
     "name": "stdout",
     "output_type": "stream",
     "text": [
      "Started with the following puzzle:\n",
      "[3, 1, 4, 2]\n",
      "[2, 0, 0, 1]\n",
      "[1, 0, 0, 0]\n",
      "[4, 0, 0, 3]\n",
      "\n",
      "Completed trivial missing values. Current puzzle:\n",
      "[3, 1, 4, 2]\n",
      "[2, 4, 3, 1]\n",
      "[1, 0, 0, 4]\n",
      "[4, 0, 0, 3]\n",
      "\n",
      "Number of remaining unknowns: 4\n"
     ]
    }
   ],
   "source": [
    "puzzle = [\n",
    "        [3, 1, 4, 2],\n",
    "        [2, 0, 0, 1],\n",
    "        [1, 0, 0, 0],\n",
    "        [4, 0, 0, 3]\n",
    "    ] #todo: this runs a predefined sudoku. Need to change that to plugging in the one read in above\n",
    "\n",
    "print(\"Started with the following puzzle:\")\n",
    "for row in puzzle:\n",
    "    print(row)\n",
    "print()\n",
    "\n",
    "pc.complete_all_trivial_missing_values(puzzle)\n",
    "\n",
    "print(\"Completed trivial missing values. Current puzzle:\")\n",
    "for row in puzzle:\n",
    "    print(row)\n",
    "print()\n",
    "\n",
    "# count remaining unknowns\n",
    "number_of_unknowns = 0\n",
    "for row in puzzle:\n",
    "    number_of_unknowns += row.count(0)\n",
    "\n",
    "print(\"Number of remaining unknowns:\", number_of_unknowns)"
   ]
  },
  {
   "cell_type": "markdown",
   "id": "d256fdb6",
   "metadata": {},
   "source": [
    "Our next step is to initiate our qubits and a circuit. Let $n$ be the number of unknowns on the board after completing obvous unknowns. To represent the four numbers 1, 2, 3, 4 we will need 2 bits. Each bit we can then represent via a quibit in the obvious way: $0\\mapsto \\ket{0}$ and $1\\mapsto \\ket{1}$. Thus we need two qubits to represent the four numbers 1, 2, 3, 4 via qubits. Hence, we initiate $n\\times 2$ qubits for the unknowns. \n",
    "\n",
    "Notation: We will use the number $0$ to represent an unknown on the board. To save space, we will then represent the numbers 1, 2, 3, 4 as follows via bits: $$1\\mapsto 00,$$\n",
    "$$2\\mapsto 01,$$\n",
    "$$3\\mapsto 10,$$ \n",
    "$$4\\mapsto 11.$$\n",
    "\n",
    "Notation: Let $i$ be an integer from $0$ to $n-1$. We denote by u_i the qubit corresponding to the zeroth bit of the $i$-th unknown and by t_i the first bit of the $i$-th unknown. For example, if the $7$-th unknown ends up being 3, we represent it with the bits $10$ and thus u_7=0 and t_7=1."
   ]
  },
  {
   "cell_type": "code",
   "execution_count": 3,
   "id": "ab465d80",
   "metadata": {},
   "outputs": [
    {
     "data": {
      "image/png": "[encoded data removed]",
      "text/plain": [
       "<Figure size 179.705x1705.67 with 1 Axes>"
      ]
     },
     "execution_count": 3,
     "metadata": {},
     "output_type": "execute_result"
    }
   ],
   "source": [
    "quantum_register_u = QuantumRegister(size=number_of_unknowns, name=\"u\") #first bit of each unknown\n",
    "quantum_register_t = QuantumRegister(size=number_of_unknowns, name=\"t\") #second bit of each unknown\n",
    "ancilla_register = AncillaRegister(size=12, name=\"a\") #ancilla bits for the sudoku constraints\n",
    "\n",
    "quantum_circuit = QuantumCircuit(quantum_register_u, quantum_register_t, ancilla_register, name=\"sudoqu\") \n",
    "\n",
    "# draw the empty circuit\n",
    "quantum_circuit.draw(output=\"mpl\", style=\"bw\")"
   ]
  }
 ],
 "metadata": {
  "kernelspec": {
   "display_name": "erdos_fall_2024",
   "language": "python",
   "name": "python3"
  },
  "language_info": {
   "codemirror_mode": {
    "name": "ipython",
    "version": 3
   },
   "file_extension": ".py",
   "mimetype": "text/x-python",
   "name": "python",
   "nbconvert_exporter": "python",
   "pygments_lexer": "ipython3",
   "version": "3.12.5"
  }
 },
 "nbformat": 4,
 "nbformat_minor": 5
}
