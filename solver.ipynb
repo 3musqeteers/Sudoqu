{
 "cells": [
  {
   "cell_type": "code",
   "execution_count": 33,
   "id": "f4402955",
   "metadata": {},
   "outputs": [],
   "source": [
    "from qiskit.circuit import QuantumCircuit, QuantumRegister, AncillaRegister, Parameter\n",
    "from qiskit.quantum_info import Statevector, Operator\n",
    "#from qiskit.circuit.library import AndGate\n",
    "#from qiskit.circuit.library import MCXGate\n",
    "\n",
    "import numpy as np\n",
    "import SudoquCircuitBuilder as sudoqu\n",
    "import PuzzleConfigurations as pc"
   ]
  },
  {
   "cell_type": "markdown",
   "id": "f2a4d674",
   "metadata": {},
   "source": [
    "# Summary of the algorithm:\n",
    "\n",
    "Step 1: input a $2^2\\times 2^2$ Sudoku board\n",
    "\n",
    "Step 2: prepare input for quantum circuit initialization:\n",
    "    - Find all possible configurations for each row, each column, and each $2\\times 2$-quadrant of the given board. If a row/column/quadrant trivially only has one possible configuration, we immediately fill the unknows with that configuration. \n",
    "    - The number of rows + columns + quadrants is $4+4+4=12$. This is the maximal number of constraints we will have. In practice, not all will be present. Each row/column/quadrant has to take on one of the possible configurations we have found in the previous step. \n",
    "\n",
    "Steo 3: Initialize qubits:\n",
    "    - If $n$ is the number of unknowns left, then we need $n\\times 2$ qubits to represent the unkowns. We initialize them as $H\\ket{00}$.\n",
    "    - For each constraint, we will need one ancillar qubit, which tells us if that constraint is satisfied or not.\n",
    "\n",
    "Step 4: #todo\n",
    "\n",
    "\n"
   ]
  },
  {
   "cell_type": "markdown",
   "id": "e52591f6",
   "metadata": {},
   "source": [
    "We begin by inputting the entries of a $2^2\\times 2^2$ Sudoku game. Our convention will be to indicate unknown values by $0.$ All other values must be 1, 2, 3, 4."
   ]
  },
  {
   "cell_type": "markdown",
   "id": "7d970c35",
   "metadata": {},
   "source": [
    "Now we will find all configurations for rows/columns/quadrants and complete the values which can be trivially filled. Then we will convert the board into row/column/square constraints."
   ]
  },
  {
   "cell_type": "code",
   "execution_count": null,
   "id": "f4b2fcca",
   "metadata": {},
   "outputs": [
    {
     "name": "stdout",
     "output_type": "stream",
     "text": [
      "Started with the following puzzle:\n",
      "[0, 0, 2, 3]\n",
      "[0, 2, 0, 4]\n",
      "[0, 1, 3, 0]\n",
      "[0, 0, 4, 1]\n",
      "\n",
      "Completed trivial missing values. Current puzzle:\n",
      "[0, 0, 2, 3]\n",
      "[3, 2, 1, 4]\n",
      "[4, 1, 3, 2]\n",
      "[0, 0, 4, 1]\n",
      "\n",
      "Number of remaining unknowns: 4\n",
      "Number of remaining constraints: 6\n"
     ]
    }
   ],
   "source": [
    "puzzle = [\n",
    "        [0, 0, 2, 3],\n",
    "        [0, 2, 0, 4],\n",
    "        [0, 1, 3, 0],\n",
    "        [0, 0, 4, 1]\n",
    "    ] \n",
    "\n",
    "print(\"Started with the following puzzle:\")\n",
    "for row in puzzle:\n",
    "    print(row)\n",
    "print()\n",
    "\n",
    "pc.complete_all_trivial_missing_values(puzzle)\n",
    "\n",
    "print(\"Completed trivial missing values. Current puzzle:\")\n",
    "for row in puzzle:\n",
    "    print(row)\n",
    "print()\n",
    "\n",
    "# count remaining unknowns\n",
    "number_of_unknowns = 0\n",
    "for row in puzzle:\n",
    "    number_of_unknowns += row.count(0)\n",
    "\n",
    "print(\"Number of remaining unknowns:\", number_of_unknowns)\n",
    "\n",
    "\n",
    "constraints = pc.row_possible_values(puzzle) + pc.column_possible_values(puzzle) + pc.square_possible_values(puzzle)\n",
    "constraints = [constraint for constraint in constraints if constraint[0] != [] ]\n",
    "number_of_constraints = len(constraints)\n",
    "\n",
    "print(\"Number of remaining constraints:\", number_of_constraints)"
   ]
  },
  {
   "cell_type": "code",
   "execution_count": 55,
   "id": "4b8ac6e0",
   "metadata": {},
   "outputs": [
    {
     "data": {
      "text/plain": [
       "[([(0, 0), (0, 1)], <itertools.permutations at 0x1542cf010>),\n",
       " ([(3, 0), (3, 1)], <itertools.permutations at 0x1542cede0>),\n",
       " ([(0, 0), (3, 0)], <itertools.permutations at 0x1542cef20>),\n",
       " ([(0, 1), (3, 1)], <itertools.permutations at 0x1542cf100>),\n",
       " ([(0, 0), (0, 1)], <itertools.permutations at 0x1542ad800>),\n",
       " ([(3, 0), (3, 1)], <itertools.permutations at 0x10e4d8ea0>)]"
      ]
     },
     "execution_count": 55,
     "metadata": {},
     "output_type": "execute_result"
    }
   ],
   "source": [
    "constraints"
   ]
  },
  {
   "cell_type": "markdown",
   "id": "d256fdb6",
   "metadata": {},
   "source": [
    "Our next step is to initiate our qubits and a circuit. Let $n$ be the number of unknowns on the board after completing obvous unknowns. To represent the four numbers 1, 2, 3, 4 we will need 2 bits. Each bit we can then represent via a quibit in the obvious way: $0\\mapsto \\ket{0}$ and $1\\mapsto \\ket{1}$. Thus we need two qubits to represent the four numbers 1, 2, 3, 4 via qubits. Hence, we initiate $n\\times 2$ qubits for the unknowns. \n",
    "\n",
    "Notation: We will use the number $0$ to represent an unknown on the board. To save space, we will then represent the numbers 1, 2, 3, 4 as follows via bits: $$1\\mapsto 00,$$\n",
    "$$2\\mapsto 01,$$\n",
    "$$3\\mapsto 10,$$ \n",
    "$$4\\mapsto 11.$$\n",
    "\n",
    "Notation: Let $i$ be an integer from $0$ to $n-1$. We denote by u_i the qubit corresponding to the zeroth bit of the $i$-th unknown and by t_i the first bit of the $i$-th unknown. For example, if the $7$-th unknown ends up being 3, we represent it with the bits $10$ and thus u_7=0 and t_7=1."
   ]
  },
  {
   "cell_type": "code",
   "execution_count": 69,
   "id": "ab465d80",
   "metadata": {},
   "outputs": [
    {
     "data": {
      "image/png": "[encoded data removed]",
      "text/plain": [
       "<Figure size 162.08x1287.61 with 1 Axes>"
      ]
     },
     "execution_count": 69,
     "metadata": {},
     "output_type": "execute_result"
    }
   ],
   "source": [
    "quantum_register_u = QuantumRegister(size=number_of_unknowns, name=\"u\") #first bit of each unknown\n",
    "quantum_register_t = QuantumRegister(size=number_of_unknowns, name=\"t\") #second bit of each unknown\n",
    "ancilla_register = AncillaRegister(size=number_of_constraints + 1, name=\"a\") #ancilla bits for the sudoku constraints\n",
    "\n",
    "quantum_circuit = QuantumCircuit(quantum_register_u, quantum_register_t, ancilla_register, name=\"sudoqu\") \n",
    "\n",
    "\n",
    "# draw the initial circuit\n",
    "quantum_circuit.draw(output=\"mpl\", style=\"bw\")\n"
   ]
  },
  {
   "cell_type": "markdown",
   "id": "20b5869c",
   "metadata": {},
   "source": [
    "Let us define more helpful variables."
   ]
  },
  {
   "cell_type": "code",
   "execution_count": 57,
   "id": "1f9273c3",
   "metadata": {},
   "outputs": [],
   "source": [
    "\n",
    "#create a dictionary to map numbers to bit values as described above. We use the [u, t] ordering.\n",
    "number_to_bit = {\n",
    "    1: [0, 0],\n",
    "    2: [1, 0],\n",
    "    3: [0, 1],\n",
    "    4: [1, 1]\n",
    "}\n",
    "\n",
    "#create a dictionary to map cell positions to 2-qubit indices\n",
    "c_to_q = {}\n",
    "for row in range(len(puzzle)):\n",
    "    for col in range(len(puzzle[row])): \n",
    "        if puzzle[row][col] == 0:\n",
    "            c_to_q[(row, col)] = len(c_to_q)\n",
    "\n",
    "#create a two-bit equality checker xor-gate: first two qubits are the two-bit number to be checked, the last is the zero ancilla. The bits come out to be 1 if they match.\n",
    "number_checker = {}\n",
    "for i in number_to_bit:\n",
    "    number_checker[i] = QuantumCircuit(3)\n",
    "    for j in range(2):\n",
    "        if number_to_bit[i][j] == 1:\n",
    "            number_checker[i].x(j)\n",
    "        number_checker[i].cx(2, j)\n",
    "        number_checker[i].x(j)\n",
    "    number_checker[i] = number_checker[i].to_gate()\n"
   ]
  },
  {
   "cell_type": "markdown",
   "id": "03556957",
   "metadata": {},
   "source": [
    "We will now need to add gates to check if the given qubits satisfy valid configurations for each row/column/quadrant. We store such validness result on he ancilla qubits, starting from index 1. We transform any qubits coinciding with a valid configuration into 1, then flip the corresponding ancilla if all bits are correct, using a multi-controlled X gate. We need to take care to then uncompute such transformations on non-ancillas."
   ]
  },
  {
   "cell_type": "code",
   "execution_count": 58,
   "id": "7e11b0fb",
   "metadata": {},
   "outputs": [],
   "source": [
    "#start checking constraints\n",
    "\n",
    "for const_idx in range(len(constraints)):\n",
    "    constraint = constraints[const_idx]\n",
    "    indices = [c_to_q[coord] for coord in constraint[0]]\n",
    "    for permutation in constraint[1]:\n",
    "        for i in range(len(indices)):\n",
    "            qubit_idx = indices[i]\n",
    "            quantum_circuit.compose(number_checker[permutation[i]], qubits = [quantum_register_u[qubit_idx], quantum_register_t[qubit_idx], ancilla_register[0]], inplace = True)\n",
    "        quantum_circuit.mcx([quantum_register_u[qubit_idx] for qubit_idx in indices]+[quantum_register_t[qubit_idx] for qubit_idx in indices], ancilla_register[const_idx + 1])\n",
    "        for i in range(len(indices)):\n",
    "            qubit_idx = indices[i]\n",
    "            quantum_circuit.compose(number_checker[permutation[i]].inverse(), qubits = [quantum_register_u[qubit_idx], quantum_register_t[qubit_idx], ancilla_register[0]], inplace = True)\n",
    "\n"
   ]
  },
  {
   "cell_type": "markdown",
   "id": "5031b4cb",
   "metadata": {},
   "source": [
    "Let us store the half-marker thus constructed (i.e. before multi-controlled Z puts a minus sign on the sought after configuration) as a gate."
   ]
  },
  {
   "cell_type": "code",
   "execution_count": 59,
   "id": "1708c33c",
   "metadata": {},
   "outputs": [],
   "source": [
    "half_marker = quantum_circuit.to_gate()"
   ]
  },
  {
   "cell_type": "markdown",
   "id": "360553e4",
   "metadata": {},
   "source": [
    "We now complete the rest of the marker circuit and save it as a gate."
   ]
  },
  {
   "cell_type": "code",
   "execution_count": 60,
   "id": "f5628fe6",
   "metadata": {},
   "outputs": [],
   "source": [
    "#quantum_circuit.compose(half_marker,qubits = quantum_register_u[:] + quantum_register_t[:] + ancilla_register[:], inplace=True)\n",
    "quantum_circuit.mcp(np.pi, ancilla_register[1:-1], ancilla_register[-1])\n",
    "quantum_circuit.compose(half_marker.inverse(),qubits = quantum_register_u[:] + quantum_register_t[:] + ancilla_register[:], inplace=True)"
   ]
  },
  {
   "cell_type": "code",
   "execution_count": 41,
   "id": "7a619fb0",
   "metadata": {},
   "outputs": [],
   "source": [
    "marker_circuit = quantum_circuit.to_gate()"
   ]
  },
  {
   "cell_type": "code",
   "execution_count": 68,
   "id": "593f1a4e",
   "metadata": {},
   "outputs": [
    {
     "name": "stdout",
     "output_type": "stream",
     "text": [
      "Highest probability solution:\n",
      "[1, 4, 2, 3]\n",
      "[3, 2, 1, 4]\n",
      "[4, 1, 3, 2]\n",
      "[2, 3, 4, 1]\n",
      "\n"
     ]
    }
   ],
   "source": [
    "n = 2*number_of_unknowns\n",
    "N = 2**n\n",
    "K = int(np.rint(np.pi / (4 * np.arcsin(1 / np.sqrt(N))) - 1/2))\n",
    "\n",
    "\n",
    "grover_circuit = QuantumCircuit(quantum_register_u,quantum_register_t, ancilla_register, name=\"Grover circuit\")\n",
    "\n",
    "\n",
    "grover_circuit.h(range(n))\n",
    "for idx in range(K):\n",
    "    grover_circuit.compose(marker_circuit, qubits = quantum_register_u[:] + quantum_register_t[:] + ancilla_register[:], inplace = True)\n",
    "    grover_circuit.h(range(n))\n",
    "    grover_circuit.x(range(n))\n",
    "    grover_circuit.mcp(np.pi, quantum_register_u[:] + quantum_register_t[:-1], quantum_register_t[-1])\n",
    "    grover_circuit.x(range(n))\n",
    "    grover_circuit.h(range(n))\n",
    "\n",
    "psi = Statevector(grover_circuit)\n",
    "prob_dict = psi.probabilities_dict()\n",
    "max_key = max(prob_dict, key=prob_dict.get)\n",
    "for row, col in c_to_q:\n",
    "    idx = c_to_q[(row, col)]\n",
    "    puzzle[row][col] = 1+int(max_key[-1-idx])+2*int(max_key[-number_of_unknowns -1-idx])\n",
    "\n",
    "print(\"Highest probability solution:\")\n",
    "for row in puzzle:\n",
    "    print(row)\n",
    "print()"
   ]
  }
 ],
 "metadata": {
  "kernelspec": {
   "display_name": "quantum",
   "language": "python",
   "name": "python3"
  },
  "language_info": {
   "codemirror_mode": {
    "name": "ipython",
    "version": 3
   },
   "file_extension": ".py",
   "mimetype": "text/x-python",
   "name": "python",
   "nbconvert_exporter": "python",
   "pygments_lexer": "ipython3",
   "version": "3.13.2"
  }
 },
 "nbformat": 4,
 "nbformat_minor": 5
}
